{
  "nbformat": 4,
  "nbformat_minor": 0,
  "metadata": {
    "colab": {
      "provenance": [],
      "authorship_tag": "ABX9TyNR3Sn2Q7yuXibRrr6LlN1k",
      "include_colab_link": true
    },
    "kernelspec": {
      "name": "python3",
      "display_name": "Python 3"
    },
    "language_info": {
      "name": "python"
    }
  },
  "cells": [
    {
      "cell_type": "markdown",
      "metadata": {
        "id": "view-in-github",
        "colab_type": "text"
      },
      "source": [
        "<a href=\"https://colab.research.google.com/github/RAMkong/Pytorchpractice/blob/main/day1_1.ipynb\" target=\"_parent\"><img src=\"https://colab.research.google.com/assets/colab-badge.svg\" alt=\"Open In Colab\"/></a>"
      ]
    },
    {
      "cell_type": "code",
      "execution_count": 16,
      "metadata": {
        "id": "3g2fqxKimiXG"
      },
      "outputs": [],
      "source": [
        "from bs4 import BeautifulSoup as bs\n",
        "#!pip install lxml\n",
        "import lxml\n",
        "import requests as req"
      ]
    },
    {
      "cell_type": "code",
      "source": [
        "url = \"https://www.crummy.com/software/BeautifulSoup/bs4/doc/\"\n",
        "soup = bs(req.get(url).text,\"lxml\")\n",
        "headers=soup.find_all(\"h1\")\n",
        "headers"
      ],
      "metadata": {
        "id": "TTVbzuUXmnak",
        "colab": {
          "base_uri": "https://localhost:8080/"
        },
        "outputId": "f4866cb4-7879-4116-850c-ba3ff513aedc"
      },
      "execution_count": 23,
      "outputs": [
        {
          "output_type": "execute_result",
          "data": {
            "text/plain": [
              "[<h1>Beautiful Soup Documentation<a class=\"headerlink\" href=\"#module-bs4\" title=\"Link to this heading\">¶</a></h1>,\n",
              " <h1>Quick Start<a class=\"headerlink\" href=\"#quick-start\" title=\"Link to this heading\">¶</a></h1>,\n",
              " <h1>Installing Beautiful Soup<a class=\"headerlink\" href=\"#installing-beautiful-soup\" title=\"Link to this heading\">¶</a></h1>,\n",
              " <h1>Making the soup<a class=\"headerlink\" href=\"#making-the-soup\" title=\"Link to this heading\">¶</a></h1>,\n",
              " <h1>Kinds of objects<a class=\"headerlink\" href=\"#kinds-of-objects\" title=\"Link to this heading\">¶</a></h1>,\n",
              " <h1>Navigating the tree<a class=\"headerlink\" href=\"#navigating-the-tree\" title=\"Link to this heading\">¶</a></h1>,\n",
              " <h1>Searching the tree<a class=\"headerlink\" href=\"#searching-the-tree\" title=\"Link to this heading\">¶</a></h1>,\n",
              " <h1>Modifying the tree<a class=\"headerlink\" href=\"#modifying-the-tree\" title=\"Link to this heading\">¶</a></h1>,\n",
              " <h1>Output<a class=\"headerlink\" href=\"#output\" title=\"Link to this heading\">¶</a></h1>,\n",
              " <h1>Specifying the parser to use<a class=\"headerlink\" href=\"#specifying-the-parser-to-use\" title=\"Link to this heading\">¶</a></h1>,\n",
              " <h1>Encodings<a class=\"headerlink\" href=\"#encodings\" title=\"Link to this heading\">¶</a></h1>,\n",
              " <h1>Line numbers<a class=\"headerlink\" href=\"#line-numbers\" title=\"Link to this heading\">¶</a></h1>,\n",
              " <h1>Comparing objects for equality<a class=\"headerlink\" href=\"#comparing-objects-for-equality\" title=\"Link to this heading\">¶</a></h1>,\n",
              " <h1>Copying Beautiful Soup objects<a class=\"headerlink\" href=\"#copying-beautiful-soup-objects\" title=\"Link to this heading\">¶</a></h1>,\n",
              " <h1>Advanced parser customization<a class=\"headerlink\" href=\"#advanced-parser-customization\" title=\"Link to this heading\">¶</a></h1>,\n",
              " <h1>Troubleshooting<a class=\"headerlink\" href=\"#troubleshooting\" title=\"Link to this heading\">¶</a></h1>,\n",
              " <h1>Translating this documentation<a class=\"headerlink\" href=\"#translating-this-documentation\" title=\"Link to this heading\">¶</a></h1>,\n",
              " <h1>Beautiful Soup 3<a class=\"headerlink\" href=\"#id16\" title=\"Link to this heading\">¶</a></h1>]"
            ]
          },
          "metadata": {},
          "execution_count": 23
        }
      ]
    },
    {
      "cell_type": "code",
      "source": [
        "for titles in headers:\n",
        "  print(titles.text)\n"
      ],
      "metadata": {
        "colab": {
          "base_uri": "https://localhost:8080/"
        },
        "id": "xbwkAkNo0cQR",
        "outputId": "e0d9ab25-369b-4d00-956f-f8acc493a3c4"
      },
      "execution_count": 24,
      "outputs": [
        {
          "output_type": "stream",
          "name": "stdout",
          "text": [
            "Beautiful Soup Documentation¶\n",
            "Quick Start¶\n",
            "Installing Beautiful Soup¶\n",
            "Making the soup¶\n",
            "Kinds of objects¶\n",
            "Navigating the tree¶\n",
            "Searching the tree¶\n",
            "Modifying the tree¶\n",
            "Output¶\n",
            "Specifying the parser to use¶\n",
            "Encodings¶\n",
            "Line numbers¶\n",
            "Comparing objects for equality¶\n",
            "Copying Beautiful Soup objects¶\n",
            "Advanced parser customization¶\n",
            "Troubleshooting¶\n",
            "Translating this documentation¶\n",
            "Beautiful Soup 3¶\n"
          ]
        }
      ]
    }
  ]
}