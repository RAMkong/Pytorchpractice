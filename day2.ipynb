{
  "nbformat": 4,
  "nbformat_minor": 0,
  "metadata": {
    "colab": {
      "provenance": [],
      "authorship_tag": "ABX9TyMp2cgrvtVwgR4Tt0W7rGgw",
      "include_colab_link": true
    },
    "kernelspec": {
      "name": "python3",
      "display_name": "Python 3"
    },
    "language_info": {
      "name": "python"
    }
  },
  "cells": [
    {
      "cell_type": "markdown",
      "metadata": {
        "id": "view-in-github",
        "colab_type": "text"
      },
      "source": [
        "<a href=\"https://colab.research.google.com/github/RAMkong/Pytorchpractice/blob/main/day2.ipynb\" target=\"_parent\"><img src=\"https://colab.research.google.com/assets/colab-badge.svg\" alt=\"Open In Colab\"/></a>"
      ]
    },
    {
      "cell_type": "code",
      "execution_count": 6,
      "metadata": {
        "id": "qOIQtOwAiWml"
      },
      "outputs": [],
      "source": [
        "import torch"
      ]
    },
    {
      "cell_type": "markdown",
      "source": [
        "**exercises for fundamentals in pytorch**"
      ],
      "metadata": {
        "id": "dV8iIdcL3Fog"
      }
    },
    {
      "cell_type": "code",
      "source": [
        "rand_tensor=torch.rand(7,7)\n",
        "rand_tensor"
      ],
      "metadata": {
        "colab": {
          "base_uri": "https://localhost:8080/"
        },
        "id": "SpCNWomR19Zk",
        "outputId": "c804e4d2-dbfe-4bb0-929a-f415ca70c94d"
      },
      "execution_count": 4,
      "outputs": [
        {
          "output_type": "execute_result",
          "data": {
            "text/plain": [
              "tensor([[0.8174, 0.5013, 0.6218, 0.4944, 0.9542, 0.0108, 0.6751],\n",
              "        [0.9804, 0.8902, 0.8058, 0.0338, 0.3651, 0.3194, 0.4122],\n",
              "        [0.2822, 0.2687, 0.9551, 0.7794, 0.8913, 0.4107, 0.5536],\n",
              "        [0.8553, 0.7521, 0.2752, 0.8625, 0.6618, 0.2279, 0.8007],\n",
              "        [0.7747, 0.1469, 0.9810, 0.1455, 0.0044, 0.8293, 0.0370],\n",
              "        [0.0462, 0.1170, 0.0316, 0.8077, 0.2454, 0.0831, 0.6083],\n",
              "        [0.6390, 0.9030, 0.1440, 0.9170, 0.5327, 0.3989, 0.4826]])"
            ]
          },
          "metadata": {},
          "execution_count": 4
        }
      ]
    },
    {
      "cell_type": "code",
      "source": [
        "#multiplying the above matrix by a [1,7] matrix\n",
        "\n",
        "mul_tensor=torch.rand(1,7)\n",
        "result_matrix= torch.matmul(rand_tensor,mul_tensor.T)\n",
        "#\"T\" stands for transpose\n",
        "result_matrix\n"
      ],
      "metadata": {
        "colab": {
          "base_uri": "https://localhost:8080/"
        },
        "id": "yQt2VuL_2xni",
        "outputId": "5262d0c5-2f26-40af-e007-671523317d64"
      },
      "execution_count": 8,
      "outputs": [
        {
          "output_type": "execute_result",
          "data": {
            "text/plain": [
              "tensor([[1.6232],\n",
              "        [1.4268],\n",
              "        [2.2538],\n",
              "        [1.7426],\n",
              "        [1.6122],\n",
              "        [0.8901],\n",
              "        [1.7708]])"
            ]
          },
          "metadata": {},
          "execution_count": 8
        }
      ]
    },
    {
      "cell_type": "code",
      "source": [
        "#setting a manual seed\n",
        "torch.manual_seed(0)\n",
        "rand=torch.rand(7,7)\n",
        "mul=torch.rand(1,7)\n",
        "result=torch.matmul(rand,mul.T)\n",
        "result"
      ],
      "metadata": {
        "colab": {
          "base_uri": "https://localhost:8080/"
        },
        "id": "FWiBqL-Q4DlZ",
        "outputId": "d5a94ead-bf38-46f6-9220-3ac47b3798bc"
      },
      "execution_count": 9,
      "outputs": [
        {
          "output_type": "execute_result",
          "data": {
            "text/plain": [
              "tensor([[1.8542],\n",
              "        [1.9611],\n",
              "        [2.2884],\n",
              "        [3.0481],\n",
              "        [1.7067],\n",
              "        [2.5290],\n",
              "        [1.7989]])"
            ]
          },
          "metadata": {},
          "execution_count": 9
        }
      ]
    }
  ]
}