{
  "nbformat": 4,
  "nbformat_minor": 0,
  "metadata": {
    "colab": {
      "provenance": [],
      "authorship_tag": "ABX9TyMK4L6k0UTnUdfLoXsPwzHi",
      "include_colab_link": true
    },
    "kernelspec": {
      "name": "python3",
      "display_name": "Python 3"
    },
    "language_info": {
      "name": "python"
    }
  },
  "cells": [
    {
      "cell_type": "markdown",
      "metadata": {
        "id": "view-in-github",
        "colab_type": "text"
      },
      "source": [
        "<a href=\"https://colab.research.google.com/github/RAMkong/Pytorchpractice/blob/main/workflow_exerxise.ipynb\" target=\"_parent\"><img src=\"https://colab.research.google.com/assets/colab-badge.svg\" alt=\"Open In Colab\"/></a>"
      ]
    },
    {
      "cell_type": "code",
      "execution_count": 3,
      "metadata": {
        "id": "Xt_vl3YZ3nnW"
      },
      "outputs": [],
      "source": [
        "import torch\n",
        "from torch import nn\n",
        "import matplotlib.pyplot as plt\n"
      ]
    },
    {
      "cell_type": "code",
      "source": [
        "weight = 0.3\n",
        "bias = 0.9\n",
        "\n",
        "X=torch.arange(0,1,0.01).unsqueeze(dim=1)\n",
        "\n",
        "Y=weight*X+bias\n"
      ],
      "metadata": {
        "id": "eOgFPqUL3t5w"
      },
      "execution_count": 4,
      "outputs": []
    },
    {
      "cell_type": "code",
      "source": [
        "train_split= int(len(X)*0.8)\n",
        "X_train,Y_train=X[:train_split],Y[:train_split]\n",
        "X_test,Y_test=X[train_split:],Y[train_split:]\n",
        "\n",
        "len(X_train),len(X_test)"
      ],
      "metadata": {
        "colab": {
          "base_uri": "https://localhost:8080/"
        },
        "id": "3434Li9T6ynO",
        "outputId": "9acf289c-6b7e-465d-f55f-7972ac698d89"
      },
      "execution_count": 5,
      "outputs": [
        {
          "output_type": "execute_result",
          "data": {
            "text/plain": [
              "(80, 20)"
            ]
          },
          "metadata": {},
          "execution_count": 5
        }
      ]
    },
    {
      "cell_type": "code",
      "source": [
        "def plot_predictions(train_data=X_train,\n",
        "                     train_labels=Y_train,\n",
        "                     test_data=X_test,\n",
        "                     test_labels=Y_test,\n",
        "                     predictions=None):\n",
        "\n",
        "  plt.figure(figsize=(10, 7))\n",
        "\n",
        "  plt.scatter(train_data, train_labels, c=\"b\", s=4, label=\"Training data\")\n",
        "\n",
        "  plt.scatter(test_data, test_labels, c=\"g\", s=4, label=\"Testing data\")\n",
        "\n",
        "  if predictions is not None:\n",
        "    plt.scatter(test_data, predictions, c=\"r\", s=4, label=\"Predictions\")\n",
        "\n",
        "  plt.legend(prop={\"size\": 5});\n",
        "\n"
      ],
      "metadata": {
        "id": "2Ra4BQZ_7klz"
      },
      "execution_count": 6,
      "outputs": []
    },
    {
      "cell_type": "code",
      "source": [
        "plot_predictions();\n"
      ],
      "metadata": {
        "colab": {
          "base_uri": "https://localhost:8080/",
          "height": 599
        },
        "id": "ZQCPelYa7_sB",
        "outputId": "f56653f8-f908-4467-dc8c-c6dfd256e854"
      },
      "execution_count": 7,
      "outputs": [
        {
          "output_type": "display_data",
          "data": {
            "text/plain": [
              "<Figure size 1000x700 with 1 Axes>"
            ],
            "image/png": "[encoded data removed]"
          },
          "metadata": {}
        }
      ]
    },
    {
      "cell_type": "code",
      "source": [
        "class LinearRegressionModel(nn.Module):\n",
        "    def __init__(self):\n",
        "        super().__init__()\n",
        "        self.linear_layer = nn.Linear(in_features=1,\n",
        "                                      out_features=1)\n",
        "\n",
        "    def forward(self, x: torch.Tensor) -> torch.Tensor:\n",
        "        return self.linear_layer(x)\n",
        "\n",
        "torch.manual_seed(69)\n",
        "model = LinearRegressionModel()\n",
        "model, model.state_dict()"
      ],
      "metadata": {
        "colab": {
          "base_uri": "https://localhost:8080/"
        },
        "id": "D1dEY2Cx8Yoj",
        "outputId": "19ec2424-db61-4a69-8302-3b7746aa8f64"
      },
      "execution_count": 9,
      "outputs": [
        {
          "output_type": "execute_result",
          "data": {
            "text/plain": [
              "(LinearRegressionModel(\n",
              "   (linear_layer): Linear(in_features=1, out_features=1, bias=True)\n",
              " ),\n",
              " OrderedDict([('linear_layer.weight', tensor([[0.6796]])),\n",
              "              ('linear_layer.bias', tensor([0.6083]))]))"
            ]
          },
          "metadata": {},
          "execution_count": 9
        }
      ]
    },
    {
      "cell_type": "code",
      "source": [
        "loss_fn = nn.L1Loss()\n",
        "optimizer = torch.optim.SGD(params=model.parameters(), lr=0.01)"
      ],
      "metadata": {
        "id": "UktY7xUl9tEf"
      },
      "execution_count": 10,
      "outputs": []
    },
    {
      "cell_type": "code",
      "source": [
        "torch.manual_seed(69)\n",
        "\n",
        "epochs = 1000\n",
        "\n",
        "for epoch in range(epochs):\n",
        "    model.train()\n",
        "    y_pred = model(X_train)\n",
        "    loss = loss_fn(y_pred, Y_train)\n",
        "    optimizer.zero_grad()\n",
        "    loss.backward()\n",
        "    optimizer.step()\n",
        "\n",
        "    model.eval()\n",
        "    with torch.inference_mode():\n",
        "        test_pred = model(X_test)\n",
        "        test_loss = loss_fn(test_pred, Y_test)\n",
        "    if epoch % 100 == 0:\n",
        "        print(f\"Epoch: {epoch} | Train loss: {loss} | Test loss: {test_loss}\")"
      ],
      "metadata": {
        "colab": {
          "base_uri": "https://localhost:8080/"
        },
        "id": "evChlo6ZGtsg",
        "outputId": "dc38d2c9-1a10-4ad0-aebb-b24b2d6052e9"
      },
      "execution_count": 13,
      "outputs": [
        {
          "output_type": "stream",
          "name": "stdout",
          "text": [
            "Epoch: 0 | Train loss: 0.005910050123929977 | Test loss: 0.0036909044720232487\n",
            "Epoch: 100 | Train loss: 0.005910050123929977 | Test loss: 0.0036909044720232487\n",
            "Epoch: 200 | Train loss: 0.005910050123929977 | Test loss: 0.0036909044720232487\n",
            "Epoch: 300 | Train loss: 0.005910050123929977 | Test loss: 0.0036909044720232487\n",
            "Epoch: 400 | Train loss: 0.005910050123929977 | Test loss: 0.0036909044720232487\n",
            "Epoch: 500 | Train loss: 0.005910050123929977 | Test loss: 0.0036909044720232487\n",
            "Epoch: 600 | Train loss: 0.005910050123929977 | Test loss: 0.0036909044720232487\n",
            "Epoch: 700 | Train loss: 0.005910050123929977 | Test loss: 0.0036909044720232487\n",
            "Epoch: 800 | Train loss: 0.005910050123929977 | Test loss: 0.0036909044720232487\n",
            "Epoch: 900 | Train loss: 0.005910050123929977 | Test loss: 0.0036909044720232487\n"
          ]
        }
      ]
    },
    {
      "cell_type": "code",
      "source": [
        "from pprint import pprint\n",
        "print(\"The model learned the following values for weights and bias:\")\n",
        "pprint(model.state_dict())\n",
        "print(\"\\nAnd the original values for weights and bias are:\")\n",
        "print(f\"weights: {weight}, bias: {bias}\")"
      ],
      "metadata": {
        "colab": {
          "base_uri": "https://localhost:8080/"
        },
        "id": "PFpA1YyxIO3Q",
        "outputId": "b58480c4-c8f3-42a4-8f74-93458c20ba0c"
      },
      "execution_count": 14,
      "outputs": [
        {
          "output_type": "stream",
          "name": "stdout",
          "text": [
            "The model learned the following values for weights and bias:\n",
            "OrderedDict([('linear_layer.weight', tensor([[0.3079]])),\n",
            "             ('linear_layer.bias', tensor([0.9028]))])\n",
            "\n",
            "And the original values for weights and bias are:\n",
            "weights: 0.3, bias: 0.9\n"
          ]
        }
      ]
    },
    {
      "cell_type": "code",
      "source": [
        "model.eval()\n",
        "\n",
        "with torch.inference_mode():\n",
        "    y_preds = model(X_test)\n",
        "plot_predictions(predictions=y_preds.cpu())\n"
      ],
      "metadata": {
        "colab": {
          "base_uri": "https://localhost:8080/",
          "height": 599
        },
        "id": "387-K243IniY",
        "outputId": "9e92c219-c5df-400d-df97-a67952677379"
      },
      "execution_count": 19,
      "outputs": [
        {
          "output_type": "display_data",
          "data": {
            "text/plain": [
              "<Figure size 1000x700 with 1 Axes>"
            ],
            "image/png": "[encoded data removed]"
          },
          "metadata": {}
        }
      ]
    }
  ]
}