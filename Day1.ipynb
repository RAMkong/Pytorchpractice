{
  "nbformat": 4,
  "nbformat_minor": 0,
  "metadata": {
    "colab": {
      "provenance": [],
      "authorship_tag": "ABX9TyMVtkE0BEjiEBsVXFuW8uHZ",
      "include_colab_link": true
    },
    "kernelspec": {
      "name": "python3",
      "display_name": "Python 3"
    },
    "language_info": {
      "name": "python"
    }
  },
  "cells": [
    {
      "cell_type": "markdown",
      "metadata": {
        "id": "view-in-github",
        "colab_type": "text"
      },
      "source": [
        "<a href=\"https://colab.research.google.com/github/RAMkong/Pytorchpractice/blob/main/Day1.ipynb\" target=\"_parent\"><img src=\"https://colab.research.google.com/assets/colab-badge.svg\" alt=\"Open In Colab\"/></a>"
      ]
    },
    {
      "cell_type": "code",
      "execution_count": 4,
      "metadata": {
        "colab": {
          "base_uri": "https://localhost:8080/",
          "height": 35
        },
        "id": "RHYCEioAnC9W",
        "outputId": "d994db5e-7fb4-4eb1-d44c-b4d991fcbc9b"
      },
      "outputs": [
        {
          "output_type": "execute_result",
          "data": {
            "text/plain": [
              "'2.1.0+cu121'"
            ],
            "application/vnd.google.colaboratory.intrinsic+json": {
              "type": "string"
            }
          },
          "metadata": {},
          "execution_count": 4
        }
      ],
      "source": [
        "import torch\n",
        "torch.__version__"
      ]
    },
    {
      "cell_type": "code",
      "source": [
        "mata=torch.rand(1,2,3)\n",
        "mata"
      ],
      "metadata": {
        "colab": {
          "base_uri": "https://localhost:8080/"
        },
        "id": "fEt2_-KQoK_k",
        "outputId": "ab2ab6b5-8d33-4904-b092-c440f5e99a2f"
      },
      "execution_count": 8,
      "outputs": [
        {
          "output_type": "execute_result",
          "data": {
            "text/plain": [
              "tensor([[[0.5836, 0.1632, 0.0147],\n",
              "         [0.7918, 0.0412, 0.5841]]])"
            ]
          },
          "metadata": {},
          "execution_count": 8
        }
      ]
    },
    {
      "cell_type": "code",
      "source": [
        "matb=mata.squeeze()\n",
        "matb"
      ],
      "metadata": {
        "id": "7_YW86kvqiCA",
        "outputId": "6ed6cec0-8f9e-4908-9426-0c81a3324bb0",
        "colab": {
          "base_uri": "https://localhost:8080/"
        }
      },
      "execution_count": 13,
      "outputs": [
        {
          "output_type": "execute_result",
          "data": {
            "text/plain": [
              "tensor([[0.5836, 0.1632, 0.0147],\n",
              "        [0.7918, 0.0412, 0.5841]])"
            ]
          },
          "metadata": {},
          "execution_count": 13
        }
      ]
    },
    {
      "cell_type": "code",
      "source": [
        "matb.size()\n"
      ],
      "metadata": {
        "id": "k1Pe60-SwVnK",
        "outputId": "efd2b6aa-e18d-4561-dc06-f727107157ac",
        "colab": {
          "base_uri": "https://localhost:8080/"
        }
      },
      "execution_count": 17,
      "outputs": [
        {
          "output_type": "execute_result",
          "data": {
            "text/plain": [
              "torch.Size([2, 3])"
            ]
          },
          "metadata": {},
          "execution_count": 17
        }
      ]
    },
    {
      "cell_type": "code",
      "source": [
        "mata.size()"
      ],
      "metadata": {
        "id": "FP1pvq3Bw2eh",
        "outputId": "9c2c1b99-4b15-4e6c-8212-0c2a1df0f3cf",
        "colab": {
          "base_uri": "https://localhost:8080/"
        }
      },
      "execution_count": 18,
      "outputs": [
        {
          "output_type": "execute_result",
          "data": {
            "text/plain": [
              "torch.Size([1, 2, 3])"
            ]
          },
          "metadata": {},
          "execution_count": 18
        }
      ]
    },
    {
      "cell_type": "code",
      "source": [
        "matc=matb.unsqueeze(dim=0)\n",
        "matc"
      ],
      "metadata": {
        "id": "QtHgaJ0Iw-XD",
        "outputId": "a5a37914-8b0e-460b-a9f7-e11bd5eb4527",
        "colab": {
          "base_uri": "https://localhost:8080/"
        }
      },
      "execution_count": 20,
      "outputs": [
        {
          "output_type": "execute_result",
          "data": {
            "text/plain": [
              "tensor([[[0.5836, 0.1632, 0.0147],\n",
              "         [0.7918, 0.0412, 0.5841]]])"
            ]
          },
          "metadata": {},
          "execution_count": 20
        }
      ]
    },
    {
      "cell_type": "code",
      "source": [
        "matc.size()"
      ],
      "metadata": {
        "id": "dJE4waWlw7oI",
        "outputId": "ec99a906-0e9a-452a-fbbc-6278a839036d",
        "colab": {
          "base_uri": "https://localhost:8080/"
        }
      },
      "execution_count": 22,
      "outputs": [
        {
          "output_type": "execute_result",
          "data": {
            "text/plain": [
              "torch.Size([1, 2, 3])"
            ]
          },
          "metadata": {},
          "execution_count": 22
        }
      ]
    },
    {
      "cell_type": "code",
      "source": [],
      "metadata": {
        "id": "qMbdPaIRxVzG"
      },
      "execution_count": null,
      "outputs": []
    }
  ]
}